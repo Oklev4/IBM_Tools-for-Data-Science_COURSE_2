{
 "cells": [
  {
   "cell_type": "markdown",
   "id": "8a78338e-ca27-4cd6-b5f5-36e230469070",
   "metadata": {},
   "source": [
    "#  Data Science Tools and Ecosystem"
   ]
  },
  {
   "cell_type": "markdown",
   "id": "d44d7394-64b0-4262-b437-7406ad95de07",
   "metadata": {},
   "source": [
    "In this notebook, Data Science Tools and Ecosystem are summarized."
   ]
  },
  {
   "cell_type": "markdown",
   "id": "491baa58-b7e1-4802-a6e5-efcc9ad4014c",
   "metadata": {},
   "source": [
    "**Objectives:**\n",
    "* List popular languages for Data Science\n",
    "* Commonly used libraries used by Data Scientists\n",
    "* Tables\n",
    "* Data Science Tools\n",
    "* Arithmetic expressions"
   ]
  },
  {
   "cell_type": "markdown",
   "id": "d93ec29a-18a7-45e8-8b5f-1be8e89e0047",
   "metadata": {},
   "source": [
    "Some of the popular languages that Data Scientists use are:\n",
    "1. Julia\n",
    "2. Python\n",
    "3. R\n",
    "4. SQL\n",
    "5. GO\n"
   ]
  },
  {
   "cell_type": "markdown",
   "id": "089dcc3a-9f11-4d0d-983d-e042f406ef0e",
   "metadata": {},
   "source": [
    "Some of the commonly used libraries used by Data Scientists include:\n",
    "1. Pandas\n",
    "2. Matplotlib\n",
    "3. Seaborn"
   ]
  },
  {
   "cell_type": "markdown",
   "id": "388474c3-4954-4efc-b4cf-e5d70521af80",
   "metadata": {},
   "source": [
    "| Data Science Tools | \n",
    "| -------------|\n",
    "| R Studio | \n",
    "| Anaconda | \n",
    "| Spyder | "
   ]
  },
  {
   "cell_type": "markdown",
   "id": "4afc687e-1d0b-47b0-97a3-b28c72f51a39",
   "metadata": {},
   "source": [
    "### Below are a few examples of evaluating arithmetic expressions in Python"
   ]
  },
  {
   "cell_type": "code",
   "execution_count": 6,
   "id": "286b5cf9-860a-449f-92af-1eb5a0575618",
   "metadata": {},
   "outputs": [
    {
     "data": {
      "text/plain": [
       "17"
      ]
     },
     "execution_count": 6,
     "metadata": {},
     "output_type": "execute_result"
    }
   ],
   "source": [
    "##This a simple arithmetic expression to mutiply then add integers\n",
    "(3*4)+5"
   ]
  },
  {
   "cell_type": "code",
   "execution_count": 7,
   "id": "67e09d02-ac99-4dfb-8e9f-1f6bb3d7c609",
   "metadata": {},
   "outputs": [
    {
     "data": {
      "text/plain": [
       "3.3333333333333335"
      ]
     },
     "execution_count": 7,
     "metadata": {},
     "output_type": "execute_result"
    }
   ],
   "source": [
    "##This will convert 200 minutes to hours by diving by 60\n",
    "200/60"
   ]
  },
  {
   "cell_type": "markdown",
   "id": "d607234c-2f26-4990-984e-7887312a0104",
   "metadata": {},
   "source": [
    "## Author\n",
    "Oksana"
   ]
  },
  {
   "cell_type": "code",
   "execution_count": null,
   "id": "1c00f07f-b802-4787-aa52-6661e698e235",
   "metadata": {},
   "outputs": [],
   "source": []
  }
 ],
 "metadata": {
  "kernelspec": {
   "display_name": "Python 3 (ipykernel)",
   "language": "python",
   "name": "python3"
  },
  "language_info": {
   "codemirror_mode": {
    "name": "ipython",
    "version": 3
   },
   "file_extension": ".py",
   "mimetype": "text/x-python",
   "name": "python",
   "nbconvert_exporter": "python",
   "pygments_lexer": "ipython3",
   "version": "3.11.9"
  }
 },
 "nbformat": 4,
 "nbformat_minor": 5
}
